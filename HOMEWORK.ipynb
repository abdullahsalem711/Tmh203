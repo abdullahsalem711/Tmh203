{
 "cells": [
  {
   "cell_type": "code",
   "execution_count": 12,
   "id": "4cf3a547",
   "metadata": {},
   "outputs": [
    {
     "name": "stdout",
     "output_type": "stream",
     "text": [
      "enter the mase one:3\n",
      "enter the mase tow:2\n",
      "enter distance between centers of the masses5\n",
      " universal gravitation of this  system is 1.601832e-11\n",
      "enter the mase :7\n",
      "the value of energy is 630000000000\n",
      "enter the mase:5\n",
      "enter the  speed:4\n",
      "the kinetic energy: 40.0\n"
     ]
    }
   ],
   "source": [
    "#The law provided several explanations for many phenomena that occur at the level of the universe and at the level of celestial bodies and planets in various galaxies with their differences. Among the explanations given and presented by this law are the following:\n",
    " #Provide an explanation of the rotational pattern that occurs between planets, stars and supernovae that are on the verge of extinction and disintegration. \n",
    "#Presenting the law for a complete explanation of the columbian attraction that occurs at the level of atomic nuclei and at the level of atomic molecules.\n",
    "\n",
    "g=6.67430*pow(10,-11)\n",
    "m1=int(input(\"enter the mase one:\" ))\n",
    "m2=int(input(\"enter the mase tow:\" ))   \n",
    "r=int(input(\"enter distance between centers of the masses\"))\n",
    "f=g*m1*m2/pow(r,2)\n",
    "print( \" universal gravitation of this  system is\",f)\n",
    "\n",
    "#Relativity is one of the most important theories that express how energy\n",
    "#is converted into mass and vice versa, and this conversion is the basis for the work of nuclear power plants\n",
    "#, in addition to the glow and radiation of stars.\n",
    "c=300000\n",
    "m=int(input(\"enter the mase :\" ))\n",
    "E=m*pow(c,2)\n",
    "print (\"the value of energy is\",E)\n",
    "# Kinetic energy is a type of energy possessed by a body due to its motion, \n",
    "#equal to the work required to accelerate an object from rest to a certain speed, \n",
    "#whether it is a straight or angular velocity.\n",
    "a=0.5\n",
    "M=int(input(\"enter the mase:\"))\n",
    "v=int(input(\"enter the  speed:\"))\n",
    "KE=a*M*pow(v,2)\n",
    "print(\"the kinetic energy is:\",KE)\n",
    "\n",
    "\n"
   ]
  },
  {
   "cell_type": "code",
   "execution_count": null,
   "id": "5afae237",
   "metadata": {},
   "outputs": [],
   "source": []
  },
  {
   "cell_type": "code",
   "execution_count": null,
   "id": "451ea420",
   "metadata": {},
   "outputs": [],
   "source": []
  },
  {
   "cell_type": "code",
   "execution_count": null,
   "id": "bee484b4",
   "metadata": {},
   "outputs": [],
   "source": []
  }
 ],
 "metadata": {
  "kernelspec": {
   "display_name": "Python 3 (ipykernel)",
   "language": "python",
   "name": "python3"
  },
  "language_info": {
   "codemirror_mode": {
    "name": "ipython",
    "version": 3
   },
   "file_extension": ".py",
   "mimetype": "text/x-python",
   "name": "python",
   "nbconvert_exporter": "python",
   "pygments_lexer": "ipython3",
   "version": "3.9.12"
  }
 },
 "nbformat": 4,
 "nbformat_minor": 5
}
